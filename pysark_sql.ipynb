{
  "nbformat": 4,
  "nbformat_minor": 0,
  "metadata": {
    "colab": {
      "provenance": []
    },
    "kernelspec": {
      "name": "python3",
      "display_name": "Python 3"
    },
    "language_info": {
      "name": "python"
    }
  },
  "cells": [
    {
      "cell_type": "code",
      "source": [
        "!pip install pyspark"
      ],
      "metadata": {
        "colab": {
          "base_uri": "https://localhost:8080/"
        },
        "id": "yZqrpPqKnWqA",
        "outputId": "55e4a5f8-b0e5-4436-ac96-3f3a67159261"
      },
      "execution_count": 6,
      "outputs": [
        {
          "output_type": "stream",
          "name": "stdout",
          "text": [
            "Looking in indexes: https://pypi.org/simple, https://us-python.pkg.dev/colab-wheels/public/simple/\n",
            "Requirement already satisfied: pyspark in /usr/local/lib/python3.8/dist-packages (3.3.2)\n",
            "Requirement already satisfied: py4j==0.10.9.5 in /usr/local/lib/python3.8/dist-packages (from pyspark) (0.10.9.5)\n"
          ]
        }
      ]
    },
    {
      "cell_type": "markdown",
      "source": [
        "In Apache Spark, SparkSession is the entry point for programming Spark with the Dataset and DataFrame API. "
      ],
      "metadata": {
        "id": "FrX-TUpjpIRD"
      }
    },
    {
      "cell_type": "markdown",
      "source": [
        "The SparkSession is a unified entry point for users to interact with Spark data, and it replaces the earlier SQLContext and HiveContext in Spark 2.x. It is the starting point for any Spark functionality and enables the user to create a Spark DataFrame and Dataset and execute SQL queries against them."
      ],
      "metadata": {
        "id": "YiVCakVGpS90"
      }
    },
    {
      "cell_type": "code",
      "execution_count": 7,
      "metadata": {
        "id": "v1rlC0gVmauM"
      },
      "outputs": [],
      "source": [
        "from pyspark.sql import SparkSession"
      ]
    },
    {
      "cell_type": "code",
      "source": [
        "spark=SparkSession.builder.appName('test').getOrCreate()"
      ],
      "metadata": {
        "id": "ljyJ_Zktolsu"
      },
      "execution_count": 8,
      "outputs": []
    },
    {
      "cell_type": "code",
      "source": [
        "spark"
      ],
      "metadata": {
        "colab": {
          "base_uri": "https://localhost:8080/",
          "height": 219
        },
        "id": "BgscUDeNy45N",
        "outputId": "99888c2c-ff58-4bd9-9cac-8c9bd43578df"
      },
      "execution_count": 9,
      "outputs": [
        {
          "output_type": "execute_result",
          "data": {
            "text/plain": [
              "<pyspark.sql.session.SparkSession at 0x7fa4be231610>"
            ],
            "text/html": [
              "\n",
              "            <div>\n",
              "                <p><b>SparkSession - in-memory</b></p>\n",
              "                \n",
              "        <div>\n",
              "            <p><b>SparkContext</b></p>\n",
              "\n",
              "            <p><a href=\"http://2d632872dc30:4040\">Spark UI</a></p>\n",
              "\n",
              "            <dl>\n",
              "              <dt>Version</dt>\n",
              "                <dd><code>v3.3.2</code></dd>\n",
              "              <dt>Master</dt>\n",
              "                <dd><code>local[*]</code></dd>\n",
              "              <dt>AppName</dt>\n",
              "                <dd><code>test</code></dd>\n",
              "            </dl>\n",
              "        </div>\n",
              "        \n",
              "            </div>\n",
              "        "
            ]
          },
          "metadata": {},
          "execution_count": 9
        }
      ]
    },
    {
      "cell_type": "markdown",
      "source": [
        "the local[*] URL tells Spark to run in local mode, using all available cores on the machine where the application is running."
      ],
      "metadata": {
        "id": "Hvmkma6czOx5"
      }
    },
    {
      "cell_type": "code",
      "source": [
        "# Now you can use SparkSession to create DataFrames and execute SQL queries\n",
        "df = spark.read.csv(\"diabetes.csv\")\n",
        "df.show()"
      ],
      "metadata": {
        "colab": {
          "base_uri": "https://localhost:8080/"
        },
        "id": "CoI22EpqpfeD",
        "outputId": "751a8b0d-eaef-4a16-d4f8-01dba04c1813"
      },
      "execution_count": 10,
      "outputs": [
        {
          "output_type": "stream",
          "name": "stdout",
          "text": [
            "+-----------+-------+-------------+-------------+-------+----+--------------------+---+-------+\n",
            "|        _c0|    _c1|          _c2|          _c3|    _c4| _c5|                 _c6|_c7|    _c8|\n",
            "+-----------+-------+-------------+-------------+-------+----+--------------------+---+-------+\n",
            "|Pregnancies|Glucose|BloodPressure|SkinThickness|Insulin| BMI|DiabetesPedigreeF...|Age|Outcome|\n",
            "|          6|    148|           72|           35|      0|33.6|               0.627| 50|      1|\n",
            "|          1|     85|           66|           29|      0|26.6|               0.351| 31|      0|\n",
            "|          8|    183|           64|            0|      0|23.3|               0.672| 32|      1|\n",
            "|          1|     89|           66|           23|     94|28.1|               0.167| 21|      0|\n",
            "|          0|    137|           40|           35|    168|43.1|               2.288| 33|      1|\n",
            "|          5|    116|           74|            0|      0|25.6|               0.201| 30|      0|\n",
            "|          3|     78|           50|           32|     88|  31|               0.248| 26|      1|\n",
            "|         10|    115|            0|            0|      0|35.3|               0.134| 29|      0|\n",
            "|          2|    197|           70|           45|    543|30.5|               0.158| 53|      1|\n",
            "|          8|    125|           96|            0|      0|   0|               0.232| 54|      1|\n",
            "|          4|    110|           92|            0|      0|37.6|               0.191| 30|      0|\n",
            "|         10|    168|           74|            0|      0|  38|               0.537| 34|      1|\n",
            "|         10|    139|           80|            0|      0|27.1|               1.441| 57|      0|\n",
            "|          1|    189|           60|           23|    846|30.1|               0.398| 59|      1|\n",
            "|          5|    166|           72|           19|    175|25.8|               0.587| 51|      1|\n",
            "|          7|    100|            0|            0|      0|  30|               0.484| 32|      1|\n",
            "|          0|    118|           84|           47|    230|45.8|               0.551| 31|      1|\n",
            "|          7|    107|           74|            0|      0|29.6|               0.254| 31|      1|\n",
            "|          1|    103|           30|           38|     83|43.3|               0.183| 33|      0|\n",
            "+-----------+-------+-------------+-------------+-------+----+--------------------+---+-------+\n",
            "only showing top 20 rows\n",
            "\n"
          ]
        }
      ]
    },
    {
      "cell_type": "markdown",
      "source": [
        "set header=True."
      ],
      "metadata": {
        "id": "AqRar1FrpvPu"
      }
    },
    {
      "cell_type": "code",
      "source": [
        "df = spark.read.csv(\"diabetes.csv\",header=True)\n",
        "df.show()"
      ],
      "metadata": {
        "id": "PMc7eiBLpptl",
        "colab": {
          "base_uri": "https://localhost:8080/"
        },
        "outputId": "628834d8-acfe-481a-d8ac-e1d0b099ea63"
      },
      "execution_count": 11,
      "outputs": [
        {
          "output_type": "stream",
          "name": "stdout",
          "text": [
            "+-----------+-------+-------------+-------------+-------+----+------------------------+---+-------+\n",
            "|Pregnancies|Glucose|BloodPressure|SkinThickness|Insulin| BMI|DiabetesPedigreeFunction|Age|Outcome|\n",
            "+-----------+-------+-------------+-------------+-------+----+------------------------+---+-------+\n",
            "|          6|    148|           72|           35|      0|33.6|                   0.627| 50|      1|\n",
            "|          1|     85|           66|           29|      0|26.6|                   0.351| 31|      0|\n",
            "|          8|    183|           64|            0|      0|23.3|                   0.672| 32|      1|\n",
            "|          1|     89|           66|           23|     94|28.1|                   0.167| 21|      0|\n",
            "|          0|    137|           40|           35|    168|43.1|                   2.288| 33|      1|\n",
            "|          5|    116|           74|            0|      0|25.6|                   0.201| 30|      0|\n",
            "|          3|     78|           50|           32|     88|  31|                   0.248| 26|      1|\n",
            "|         10|    115|            0|            0|      0|35.3|                   0.134| 29|      0|\n",
            "|          2|    197|           70|           45|    543|30.5|                   0.158| 53|      1|\n",
            "|          8|    125|           96|            0|      0|   0|                   0.232| 54|      1|\n",
            "|          4|    110|           92|            0|      0|37.6|                   0.191| 30|      0|\n",
            "|         10|    168|           74|            0|      0|  38|                   0.537| 34|      1|\n",
            "|         10|    139|           80|            0|      0|27.1|                   1.441| 57|      0|\n",
            "|          1|    189|           60|           23|    846|30.1|                   0.398| 59|      1|\n",
            "|          5|    166|           72|           19|    175|25.8|                   0.587| 51|      1|\n",
            "|          7|    100|            0|            0|      0|  30|                   0.484| 32|      1|\n",
            "|          0|    118|           84|           47|    230|45.8|                   0.551| 31|      1|\n",
            "|          7|    107|           74|            0|      0|29.6|                   0.254| 31|      1|\n",
            "|          1|    103|           30|           38|     83|43.3|                   0.183| 33|      0|\n",
            "|          1|    115|           70|           30|     96|34.6|                   0.529| 32|      1|\n",
            "+-----------+-------+-------------+-------------+-------+----+------------------------+---+-------+\n",
            "only showing top 20 rows\n",
            "\n"
          ]
        }
      ]
    },
    {
      "cell_type": "code",
      "source": [
        "type(df)"
      ],
      "metadata": {
        "id": "ujOjo8z-tbsT",
        "colab": {
          "base_uri": "https://localhost:8080/"
        },
        "outputId": "fde2208b-fc86-4f4a-d320-8ef395335e9b"
      },
      "execution_count": 12,
      "outputs": [
        {
          "output_type": "execute_result",
          "data": {
            "text/plain": [
              "pyspark.sql.dataframe.DataFrame"
            ]
          },
          "metadata": {},
          "execution_count": 12
        }
      ]
    },
    {
      "cell_type": "markdown",
      "source": [
        "If you don't set inferSchema=True when reading a CSV file in PySpark, the schema of the resulting DataFrame will be inferred as string types for all columns."
      ],
      "metadata": {
        "id": "sXl5l1oPqeEZ"
      }
    },
    {
      "cell_type": "markdown",
      "source": [
        "When reading a CSV file, PySpark infers the schema of the DataFrame by inspecting the contents of the file. If inferSchema is set to True, PySpark will automatically try to guess the data types of each column in the CSV file."
      ],
      "metadata": {
        "id": "dgQGolLkqjCy"
      }
    },
    {
      "cell_type": "code",
      "source": [
        "# Print the schema of the DataFrame\n",
        "df.printSchema()"
      ],
      "metadata": {
        "id": "2ztc8FQCqzTA",
        "colab": {
          "base_uri": "https://localhost:8080/"
        },
        "outputId": "564ca60c-6dd4-428b-c3d1-b06a58a646bb"
      },
      "execution_count": 13,
      "outputs": [
        {
          "output_type": "stream",
          "name": "stdout",
          "text": [
            "root\n",
            " |-- Pregnancies: string (nullable = true)\n",
            " |-- Glucose: string (nullable = true)\n",
            " |-- BloodPressure: string (nullable = true)\n",
            " |-- SkinThickness: string (nullable = true)\n",
            " |-- Insulin: string (nullable = true)\n",
            " |-- BMI: string (nullable = true)\n",
            " |-- DiabetesPedigreeFunction: string (nullable = true)\n",
            " |-- Age: string (nullable = true)\n",
            " |-- Outcome: string (nullable = true)\n",
            "\n"
          ]
        }
      ]
    },
    {
      "cell_type": "markdown",
      "source": [
        "if nullable is set to True, then the column can contain null values. If nullable is set to False, then the column cannot contain null values."
      ],
      "metadata": {
        "id": "XOiE9-gRrMjZ"
      }
    },
    {
      "cell_type": "code",
      "source": [
        "# Read a CSV file and infer the schema\n",
        "df = spark.read.csv(\"diabetes.csv\", header=True, inferSchema=True)\n",
        "# Show the contents of the DataFrame\n",
        "df.show()"
      ],
      "metadata": {
        "id": "aDKluxvdqmoc",
        "colab": {
          "base_uri": "https://localhost:8080/"
        },
        "outputId": "e28ac684-2a63-4efa-d1f2-0707bfe3fd7d"
      },
      "execution_count": 14,
      "outputs": [
        {
          "output_type": "stream",
          "name": "stdout",
          "text": [
            "+-----------+-------+-------------+-------------+-------+----+------------------------+---+-------+\n",
            "|Pregnancies|Glucose|BloodPressure|SkinThickness|Insulin| BMI|DiabetesPedigreeFunction|Age|Outcome|\n",
            "+-----------+-------+-------------+-------------+-------+----+------------------------+---+-------+\n",
            "|          6|    148|           72|           35|      0|33.6|                   0.627| 50|      1|\n",
            "|          1|     85|           66|           29|      0|26.6|                   0.351| 31|      0|\n",
            "|          8|    183|           64|            0|      0|23.3|                   0.672| 32|      1|\n",
            "|          1|     89|           66|           23|     94|28.1|                   0.167| 21|      0|\n",
            "|          0|    137|           40|           35|    168|43.1|                   2.288| 33|      1|\n",
            "|          5|    116|           74|            0|      0|25.6|                   0.201| 30|      0|\n",
            "|          3|     78|           50|           32|     88|31.0|                   0.248| 26|      1|\n",
            "|         10|    115|            0|            0|      0|35.3|                   0.134| 29|      0|\n",
            "|          2|    197|           70|           45|    543|30.5|                   0.158| 53|      1|\n",
            "|          8|    125|           96|            0|      0| 0.0|                   0.232| 54|      1|\n",
            "|          4|    110|           92|            0|      0|37.6|                   0.191| 30|      0|\n",
            "|         10|    168|           74|            0|      0|38.0|                   0.537| 34|      1|\n",
            "|         10|    139|           80|            0|      0|27.1|                   1.441| 57|      0|\n",
            "|          1|    189|           60|           23|    846|30.1|                   0.398| 59|      1|\n",
            "|          5|    166|           72|           19|    175|25.8|                   0.587| 51|      1|\n",
            "|          7|    100|            0|            0|      0|30.0|                   0.484| 32|      1|\n",
            "|          0|    118|           84|           47|    230|45.8|                   0.551| 31|      1|\n",
            "|          7|    107|           74|            0|      0|29.6|                   0.254| 31|      1|\n",
            "|          1|    103|           30|           38|     83|43.3|                   0.183| 33|      0|\n",
            "|          1|    115|           70|           30|     96|34.6|                   0.529| 32|      1|\n",
            "+-----------+-------+-------------+-------------+-------+----+------------------------+---+-------+\n",
            "only showing top 20 rows\n",
            "\n"
          ]
        }
      ]
    },
    {
      "cell_type": "code",
      "source": [
        "# Print the schema of the DataFrame\n",
        "df.printSchema()"
      ],
      "metadata": {
        "id": "waCIAGglrUpf",
        "colab": {
          "base_uri": "https://localhost:8080/"
        },
        "outputId": "620a67ee-e500-4570-e3fc-d83c6bcbead4"
      },
      "execution_count": 15,
      "outputs": [
        {
          "output_type": "stream",
          "name": "stdout",
          "text": [
            "root\n",
            " |-- Pregnancies: integer (nullable = true)\n",
            " |-- Glucose: integer (nullable = true)\n",
            " |-- BloodPressure: integer (nullable = true)\n",
            " |-- SkinThickness: integer (nullable = true)\n",
            " |-- Insulin: integer (nullable = true)\n",
            " |-- BMI: double (nullable = true)\n",
            " |-- DiabetesPedigreeFunction: double (nullable = true)\n",
            " |-- Age: integer (nullable = true)\n",
            " |-- Outcome: integer (nullable = true)\n",
            "\n"
          ]
        }
      ]
    },
    {
      "cell_type": "code",
      "source": [
        "df.dtypes"
      ],
      "metadata": {
        "id": "iu6BZkSsrdCk",
        "colab": {
          "base_uri": "https://localhost:8080/"
        },
        "outputId": "47a619bd-955e-4361-8be4-68c774f41910"
      },
      "execution_count": 16,
      "outputs": [
        {
          "output_type": "execute_result",
          "data": {
            "text/plain": [
              "[('Pregnancies', 'int'),\n",
              " ('Glucose', 'int'),\n",
              " ('BloodPressure', 'int'),\n",
              " ('SkinThickness', 'int'),\n",
              " ('Insulin', 'int'),\n",
              " ('BMI', 'double'),\n",
              " ('DiabetesPedigreeFunction', 'double'),\n",
              " ('Age', 'int'),\n",
              " ('Outcome', 'int')]"
            ]
          },
          "metadata": {},
          "execution_count": 16
        }
      ]
    },
    {
      "cell_type": "code",
      "source": [
        "l=df.dtypes\n",
        "for column_name,column_type in l:\n",
        "  print(f\"Type of {column_name} : {column_type}\")"
      ],
      "metadata": {
        "id": "RZRHVlaOrrt9",
        "colab": {
          "base_uri": "https://localhost:8080/"
        },
        "outputId": "6a397728-29b3-4874-95a4-8a1b9ae119a3"
      },
      "execution_count": 17,
      "outputs": [
        {
          "output_type": "stream",
          "name": "stdout",
          "text": [
            "Type of Pregnancies : int\n",
            "Type of Glucose : int\n",
            "Type of BloodPressure : int\n",
            "Type of SkinThickness : int\n",
            "Type of Insulin : int\n",
            "Type of BMI : double\n",
            "Type of DiabetesPedigreeFunction : double\n",
            "Type of Age : int\n",
            "Type of Outcome : int\n"
          ]
        }
      ]
    },
    {
      "cell_type": "code",
      "source": [
        "df.schema"
      ],
      "metadata": {
        "id": "nyRLJiijsmPS",
        "colab": {
          "base_uri": "https://localhost:8080/"
        },
        "outputId": "b6aa9866-0ea7-4cf2-cff7-f71ec8733966"
      },
      "execution_count": 18,
      "outputs": [
        {
          "output_type": "execute_result",
          "data": {
            "text/plain": [
              "StructType([StructField('Pregnancies', IntegerType(), True), StructField('Glucose', IntegerType(), True), StructField('BloodPressure', IntegerType(), True), StructField('SkinThickness', IntegerType(), True), StructField('Insulin', IntegerType(), True), StructField('BMI', DoubleType(), True), StructField('DiabetesPedigreeFunction', DoubleType(), True), StructField('Age', IntegerType(), True), StructField('Outcome', IntegerType(), True)])"
            ]
          },
          "metadata": {},
          "execution_count": 18
        }
      ]
    },
    {
      "cell_type": "code",
      "source": [
        "df.schema['Pregnancies']"
      ],
      "metadata": {
        "id": "ctO16gFmss71",
        "colab": {
          "base_uri": "https://localhost:8080/"
        },
        "outputId": "776aad3d-c429-46b0-f41a-1662367dd367"
      },
      "execution_count": 19,
      "outputs": [
        {
          "output_type": "execute_result",
          "data": {
            "text/plain": [
              "StructField('Pregnancies', IntegerType(), True)"
            ]
          },
          "metadata": {},
          "execution_count": 19
        }
      ]
    },
    {
      "cell_type": "code",
      "source": [
        "df.schema['Pregnancies'].dataType"
      ],
      "metadata": {
        "id": "fHBQr-HNsxei",
        "colab": {
          "base_uri": "https://localhost:8080/"
        },
        "outputId": "3d456f3d-3b51-4a29-a0ff-cf90f85f9e3e"
      },
      "execution_count": 20,
      "outputs": [
        {
          "output_type": "execute_result",
          "data": {
            "text/plain": [
              "IntegerType()"
            ]
          },
          "metadata": {},
          "execution_count": 20
        }
      ]
    },
    {
      "cell_type": "code",
      "source": [
        "df.head()"
      ],
      "metadata": {
        "id": "k2BfvDPAs31g",
        "colab": {
          "base_uri": "https://localhost:8080/"
        },
        "outputId": "f245f4cf-95d7-4ed3-d95c-a955c6d86b4c"
      },
      "execution_count": 21,
      "outputs": [
        {
          "output_type": "execute_result",
          "data": {
            "text/plain": [
              "Row(Pregnancies=6, Glucose=148, BloodPressure=72, SkinThickness=35, Insulin=0, BMI=33.6, DiabetesPedigreeFunction=0.627, Age=50, Outcome=1)"
            ]
          },
          "metadata": {},
          "execution_count": 21
        }
      ]
    },
    {
      "cell_type": "code",
      "source": [
        "df.head(3)"
      ],
      "metadata": {
        "id": "Y9G6TZ0Uyqx_",
        "colab": {
          "base_uri": "https://localhost:8080/"
        },
        "outputId": "22829c36-d09d-4edd-88a6-6aa8c7c3e973"
      },
      "execution_count": 22,
      "outputs": [
        {
          "output_type": "execute_result",
          "data": {
            "text/plain": [
              "[Row(Pregnancies=6, Glucose=148, BloodPressure=72, SkinThickness=35, Insulin=0, BMI=33.6, DiabetesPedigreeFunction=0.627, Age=50, Outcome=1),\n",
              " Row(Pregnancies=1, Glucose=85, BloodPressure=66, SkinThickness=29, Insulin=0, BMI=26.6, DiabetesPedigreeFunction=0.351, Age=31, Outcome=0),\n",
              " Row(Pregnancies=8, Glucose=183, BloodPressure=64, SkinThickness=0, Insulin=0, BMI=23.3, DiabetesPedigreeFunction=0.672, Age=32, Outcome=1)]"
            ]
          },
          "metadata": {},
          "execution_count": 22
        }
      ]
    },
    {
      "cell_type": "code",
      "source": [
        "df.columns"
      ],
      "metadata": {
        "id": "lMiQqgC_ytjL",
        "colab": {
          "base_uri": "https://localhost:8080/"
        },
        "outputId": "6d05e536-ee8a-4a47-a54d-b8dd2aaed336"
      },
      "execution_count": 23,
      "outputs": [
        {
          "output_type": "execute_result",
          "data": {
            "text/plain": [
              "['Pregnancies',\n",
              " 'Glucose',\n",
              " 'BloodPressure',\n",
              " 'SkinThickness',\n",
              " 'Insulin',\n",
              " 'BMI',\n",
              " 'DiabetesPedigreeFunction',\n",
              " 'Age',\n",
              " 'Outcome']"
            ]
          },
          "metadata": {},
          "execution_count": 23
        }
      ]
    },
    {
      "cell_type": "code",
      "source": [
        "df.select('Outcome')"
      ],
      "metadata": {
        "id": "kfbTi8QUzf8N",
        "colab": {
          "base_uri": "https://localhost:8080/"
        },
        "outputId": "2470e9b2-e1b5-46d2-9b3f-53bf85f72332"
      },
      "execution_count": 24,
      "outputs": [
        {
          "output_type": "execute_result",
          "data": {
            "text/plain": [
              "DataFrame[Outcome: int]"
            ]
          },
          "metadata": {},
          "execution_count": 24
        }
      ]
    },
    {
      "cell_type": "code",
      "source": [
        "df.select('Outcome').show()"
      ],
      "metadata": {
        "id": "7B-VVsX-zqHN",
        "colab": {
          "base_uri": "https://localhost:8080/"
        },
        "outputId": "7ba8e26f-3d75-44f2-f787-35dbe4dbdbde"
      },
      "execution_count": 25,
      "outputs": [
        {
          "output_type": "stream",
          "name": "stdout",
          "text": [
            "+-------+\n",
            "|Outcome|\n",
            "+-------+\n",
            "|      1|\n",
            "|      0|\n",
            "|      1|\n",
            "|      0|\n",
            "|      1|\n",
            "|      0|\n",
            "|      1|\n",
            "|      0|\n",
            "|      1|\n",
            "|      1|\n",
            "|      0|\n",
            "|      1|\n",
            "|      0|\n",
            "|      1|\n",
            "|      1|\n",
            "|      1|\n",
            "|      1|\n",
            "|      1|\n",
            "|      0|\n",
            "|      1|\n",
            "+-------+\n",
            "only showing top 20 rows\n",
            "\n"
          ]
        }
      ]
    },
    {
      "cell_type": "code",
      "source": [
        "df.select(['Pregnancies','Outcome'])"
      ],
      "metadata": {
        "id": "L_XHQVroztmI",
        "colab": {
          "base_uri": "https://localhost:8080/"
        },
        "outputId": "6d10861d-549f-4020-9a3c-e8588b034d94"
      },
      "execution_count": 26,
      "outputs": [
        {
          "output_type": "execute_result",
          "data": {
            "text/plain": [
              "DataFrame[Pregnancies: int, Outcome: int]"
            ]
          },
          "metadata": {},
          "execution_count": 26
        }
      ]
    },
    {
      "cell_type": "code",
      "source": [
        "df.select(['Pregnancies','Outcome']).show()"
      ],
      "metadata": {
        "id": "tShrix-Cz5SU",
        "colab": {
          "base_uri": "https://localhost:8080/"
        },
        "outputId": "3e8eff0e-d097-4f7b-b45a-e0a8cbeab505"
      },
      "execution_count": 27,
      "outputs": [
        {
          "output_type": "stream",
          "name": "stdout",
          "text": [
            "+-----------+-------+\n",
            "|Pregnancies|Outcome|\n",
            "+-----------+-------+\n",
            "|          6|      1|\n",
            "|          1|      0|\n",
            "|          8|      1|\n",
            "|          1|      0|\n",
            "|          0|      1|\n",
            "|          5|      0|\n",
            "|          3|      1|\n",
            "|         10|      0|\n",
            "|          2|      1|\n",
            "|          8|      1|\n",
            "|          4|      0|\n",
            "|         10|      1|\n",
            "|         10|      0|\n",
            "|          1|      1|\n",
            "|          5|      1|\n",
            "|          7|      1|\n",
            "|          0|      1|\n",
            "|          7|      1|\n",
            "|          1|      0|\n",
            "|          1|      1|\n",
            "+-----------+-------+\n",
            "only showing top 20 rows\n",
            "\n"
          ]
        }
      ]
    },
    {
      "cell_type": "code",
      "source": [
        "df.describe().show()"
      ],
      "metadata": {
        "id": "DNroyXU_z8Mg",
        "colab": {
          "base_uri": "https://localhost:8080/"
        },
        "outputId": "6ce33857-0632-4d5e-8f08-a5010902fab5"
      },
      "execution_count": 28,
      "outputs": [
        {
          "output_type": "stream",
          "name": "stdout",
          "text": [
            "+-------+------------------+-----------------+------------------+------------------+------------------+------------------+------------------------+------------------+------------------+\n",
            "|summary|       Pregnancies|          Glucose|     BloodPressure|     SkinThickness|           Insulin|               BMI|DiabetesPedigreeFunction|               Age|           Outcome|\n",
            "+-------+------------------+-----------------+------------------+------------------+------------------+------------------+------------------------+------------------+------------------+\n",
            "|  count|               768|              768|               768|               768|               768|               768|                     768|               768|               768|\n",
            "|   mean|3.8450520833333335|     120.89453125|       69.10546875|20.536458333333332| 79.79947916666667|31.992578124999977|      0.4718763020833327|33.240885416666664|0.3489583333333333|\n",
            "| stddev|  3.36957806269887|31.97261819513622|19.355807170644777|15.952217567727642|115.24400235133803| 7.884160320375441|       0.331328595012775|11.760231540678689| 0.476951377242799|\n",
            "|    min|                 0|                0|                 0|                 0|                 0|               0.0|                   0.078|                21|                 0|\n",
            "|    max|                17|              199|               122|                99|               846|              67.1|                    2.42|                81|                 1|\n",
            "+-------+------------------+-----------------+------------------+------------------+------------------+------------------+------------------------+------------------+------------------+\n",
            "\n"
          ]
        }
      ]
    },
    {
      "cell_type": "code",
      "source": [
        "#add column\n",
        "df=df.withColumn('new',df['Glucose']+1)"
      ],
      "metadata": {
        "id": "mLf_37Oy0OC-"
      },
      "execution_count": 29,
      "outputs": []
    },
    {
      "cell_type": "code",
      "source": [
        "df.head(3)"
      ],
      "metadata": {
        "id": "Prphez5N0kQT",
        "colab": {
          "base_uri": "https://localhost:8080/"
        },
        "outputId": "dccd7952-c709-45c1-ec92-1f72b586e498"
      },
      "execution_count": 30,
      "outputs": [
        {
          "output_type": "execute_result",
          "data": {
            "text/plain": [
              "[Row(Pregnancies=6, Glucose=148, BloodPressure=72, SkinThickness=35, Insulin=0, BMI=33.6, DiabetesPedigreeFunction=0.627, Age=50, Outcome=1, new=149),\n",
              " Row(Pregnancies=1, Glucose=85, BloodPressure=66, SkinThickness=29, Insulin=0, BMI=26.6, DiabetesPedigreeFunction=0.351, Age=31, Outcome=0, new=86),\n",
              " Row(Pregnancies=8, Glucose=183, BloodPressure=64, SkinThickness=0, Insulin=0, BMI=23.3, DiabetesPedigreeFunction=0.672, Age=32, Outcome=1, new=184)]"
            ]
          },
          "metadata": {},
          "execution_count": 30
        }
      ]
    },
    {
      "cell_type": "code",
      "source": [
        "from pyspark.sql.functions import when\n",
        "# Assuming the glucose column is called \"glucose\"\n",
        "df = df.withColumn(\"glucose_less_than_140\", when(df[\"glucose\"] < 140, 1).otherwise(0))"
      ],
      "metadata": {
        "id": "aCDBVm6j0zyi"
      },
      "execution_count": 31,
      "outputs": []
    },
    {
      "cell_type": "code",
      "source": [
        "df.head(4)"
      ],
      "metadata": {
        "id": "BmxSg4fr1RdS",
        "colab": {
          "base_uri": "https://localhost:8080/"
        },
        "outputId": "0285a172-b0df-44c0-c6d6-4adf6d70022e"
      },
      "execution_count": 32,
      "outputs": [
        {
          "output_type": "execute_result",
          "data": {
            "text/plain": [
              "[Row(Pregnancies=6, Glucose=148, BloodPressure=72, SkinThickness=35, Insulin=0, BMI=33.6, DiabetesPedigreeFunction=0.627, Age=50, Outcome=1, new=149, glucose_less_than_140=0),\n",
              " Row(Pregnancies=1, Glucose=85, BloodPressure=66, SkinThickness=29, Insulin=0, BMI=26.6, DiabetesPedigreeFunction=0.351, Age=31, Outcome=0, new=86, glucose_less_than_140=1),\n",
              " Row(Pregnancies=8, Glucose=183, BloodPressure=64, SkinThickness=0, Insulin=0, BMI=23.3, DiabetesPedigreeFunction=0.672, Age=32, Outcome=1, new=184, glucose_less_than_140=0),\n",
              " Row(Pregnancies=1, Glucose=89, BloodPressure=66, SkinThickness=23, Insulin=94, BMI=28.1, DiabetesPedigreeFunction=0.167, Age=21, Outcome=0, new=90, glucose_less_than_140=1)]"
            ]
          },
          "metadata": {},
          "execution_count": 32
        }
      ]
    },
    {
      "cell_type": "code",
      "source": [
        "df.show()"
      ],
      "metadata": {
        "id": "fTDzGSAU1agP",
        "colab": {
          "base_uri": "https://localhost:8080/"
        },
        "outputId": "babb9199-a8f1-4844-e843-9a5ee43f36da"
      },
      "execution_count": 33,
      "outputs": [
        {
          "output_type": "stream",
          "name": "stdout",
          "text": [
            "+-----------+-------+-------------+-------------+-------+----+------------------------+---+-------+---+---------------------+\n",
            "|Pregnancies|Glucose|BloodPressure|SkinThickness|Insulin| BMI|DiabetesPedigreeFunction|Age|Outcome|new|glucose_less_than_140|\n",
            "+-----------+-------+-------------+-------------+-------+----+------------------------+---+-------+---+---------------------+\n",
            "|          6|    148|           72|           35|      0|33.6|                   0.627| 50|      1|149|                    0|\n",
            "|          1|     85|           66|           29|      0|26.6|                   0.351| 31|      0| 86|                    1|\n",
            "|          8|    183|           64|            0|      0|23.3|                   0.672| 32|      1|184|                    0|\n",
            "|          1|     89|           66|           23|     94|28.1|                   0.167| 21|      0| 90|                    1|\n",
            "|          0|    137|           40|           35|    168|43.1|                   2.288| 33|      1|138|                    1|\n",
            "|          5|    116|           74|            0|      0|25.6|                   0.201| 30|      0|117|                    1|\n",
            "|          3|     78|           50|           32|     88|31.0|                   0.248| 26|      1| 79|                    1|\n",
            "|         10|    115|            0|            0|      0|35.3|                   0.134| 29|      0|116|                    1|\n",
            "|          2|    197|           70|           45|    543|30.5|                   0.158| 53|      1|198|                    0|\n",
            "|          8|    125|           96|            0|      0| 0.0|                   0.232| 54|      1|126|                    1|\n",
            "|          4|    110|           92|            0|      0|37.6|                   0.191| 30|      0|111|                    1|\n",
            "|         10|    168|           74|            0|      0|38.0|                   0.537| 34|      1|169|                    0|\n",
            "|         10|    139|           80|            0|      0|27.1|                   1.441| 57|      0|140|                    1|\n",
            "|          1|    189|           60|           23|    846|30.1|                   0.398| 59|      1|190|                    0|\n",
            "|          5|    166|           72|           19|    175|25.8|                   0.587| 51|      1|167|                    0|\n",
            "|          7|    100|            0|            0|      0|30.0|                   0.484| 32|      1|101|                    1|\n",
            "|          0|    118|           84|           47|    230|45.8|                   0.551| 31|      1|119|                    1|\n",
            "|          7|    107|           74|            0|      0|29.6|                   0.254| 31|      1|108|                    1|\n",
            "|          1|    103|           30|           38|     83|43.3|                   0.183| 33|      0|104|                    1|\n",
            "|          1|    115|           70|           30|     96|34.6|                   0.529| 32|      1|116|                    1|\n",
            "+-----------+-------+-------------+-------------+-------+----+------------------------+---+-------+---+---------------------+\n",
            "only showing top 20 rows\n",
            "\n"
          ]
        }
      ]
    },
    {
      "cell_type": "code",
      "source": [
        "#drop column\n",
        "df=df.drop('glucose_less_than_140')"
      ],
      "metadata": {
        "id": "t98bcPS-1o4D"
      },
      "execution_count": 34,
      "outputs": []
    },
    {
      "cell_type": "code",
      "source": [
        "df.show()"
      ],
      "metadata": {
        "id": "LbpZkH701xGD",
        "colab": {
          "base_uri": "https://localhost:8080/"
        },
        "outputId": "ee7be5c5-d327-4297-803f-293b2ee278ed"
      },
      "execution_count": 35,
      "outputs": [
        {
          "output_type": "stream",
          "name": "stdout",
          "text": [
            "+-----------+-------+-------------+-------------+-------+----+------------------------+---+-------+---+\n",
            "|Pregnancies|Glucose|BloodPressure|SkinThickness|Insulin| BMI|DiabetesPedigreeFunction|Age|Outcome|new|\n",
            "+-----------+-------+-------------+-------------+-------+----+------------------------+---+-------+---+\n",
            "|          6|    148|           72|           35|      0|33.6|                   0.627| 50|      1|149|\n",
            "|          1|     85|           66|           29|      0|26.6|                   0.351| 31|      0| 86|\n",
            "|          8|    183|           64|            0|      0|23.3|                   0.672| 32|      1|184|\n",
            "|          1|     89|           66|           23|     94|28.1|                   0.167| 21|      0| 90|\n",
            "|          0|    137|           40|           35|    168|43.1|                   2.288| 33|      1|138|\n",
            "|          5|    116|           74|            0|      0|25.6|                   0.201| 30|      0|117|\n",
            "|          3|     78|           50|           32|     88|31.0|                   0.248| 26|      1| 79|\n",
            "|         10|    115|            0|            0|      0|35.3|                   0.134| 29|      0|116|\n",
            "|          2|    197|           70|           45|    543|30.5|                   0.158| 53|      1|198|\n",
            "|          8|    125|           96|            0|      0| 0.0|                   0.232| 54|      1|126|\n",
            "|          4|    110|           92|            0|      0|37.6|                   0.191| 30|      0|111|\n",
            "|         10|    168|           74|            0|      0|38.0|                   0.537| 34|      1|169|\n",
            "|         10|    139|           80|            0|      0|27.1|                   1.441| 57|      0|140|\n",
            "|          1|    189|           60|           23|    846|30.1|                   0.398| 59|      1|190|\n",
            "|          5|    166|           72|           19|    175|25.8|                   0.587| 51|      1|167|\n",
            "|          7|    100|            0|            0|      0|30.0|                   0.484| 32|      1|101|\n",
            "|          0|    118|           84|           47|    230|45.8|                   0.551| 31|      1|119|\n",
            "|          7|    107|           74|            0|      0|29.6|                   0.254| 31|      1|108|\n",
            "|          1|    103|           30|           38|     83|43.3|                   0.183| 33|      0|104|\n",
            "|          1|    115|           70|           30|     96|34.6|                   0.529| 32|      1|116|\n",
            "+-----------+-------+-------------+-------------+-------+----+------------------------+---+-------+---+\n",
            "only showing top 20 rows\n",
            "\n"
          ]
        }
      ]
    },
    {
      "cell_type": "code",
      "source": [
        "#rename column\n",
        "df.withColumnRenamed('new','new_name').show()"
      ],
      "metadata": {
        "id": "XNay--Wg169e",
        "colab": {
          "base_uri": "https://localhost:8080/"
        },
        "outputId": "8c222f10-7755-48b4-f6f1-b904de55ede9"
      },
      "execution_count": 36,
      "outputs": [
        {
          "output_type": "stream",
          "name": "stdout",
          "text": [
            "+-----------+-------+-------------+-------------+-------+----+------------------------+---+-------+--------+\n",
            "|Pregnancies|Glucose|BloodPressure|SkinThickness|Insulin| BMI|DiabetesPedigreeFunction|Age|Outcome|new_name|\n",
            "+-----------+-------+-------------+-------------+-------+----+------------------------+---+-------+--------+\n",
            "|          6|    148|           72|           35|      0|33.6|                   0.627| 50|      1|     149|\n",
            "|          1|     85|           66|           29|      0|26.6|                   0.351| 31|      0|      86|\n",
            "|          8|    183|           64|            0|      0|23.3|                   0.672| 32|      1|     184|\n",
            "|          1|     89|           66|           23|     94|28.1|                   0.167| 21|      0|      90|\n",
            "|          0|    137|           40|           35|    168|43.1|                   2.288| 33|      1|     138|\n",
            "|          5|    116|           74|            0|      0|25.6|                   0.201| 30|      0|     117|\n",
            "|          3|     78|           50|           32|     88|31.0|                   0.248| 26|      1|      79|\n",
            "|         10|    115|            0|            0|      0|35.3|                   0.134| 29|      0|     116|\n",
            "|          2|    197|           70|           45|    543|30.5|                   0.158| 53|      1|     198|\n",
            "|          8|    125|           96|            0|      0| 0.0|                   0.232| 54|      1|     126|\n",
            "|          4|    110|           92|            0|      0|37.6|                   0.191| 30|      0|     111|\n",
            "|         10|    168|           74|            0|      0|38.0|                   0.537| 34|      1|     169|\n",
            "|         10|    139|           80|            0|      0|27.1|                   1.441| 57|      0|     140|\n",
            "|          1|    189|           60|           23|    846|30.1|                   0.398| 59|      1|     190|\n",
            "|          5|    166|           72|           19|    175|25.8|                   0.587| 51|      1|     167|\n",
            "|          7|    100|            0|            0|      0|30.0|                   0.484| 32|      1|     101|\n",
            "|          0|    118|           84|           47|    230|45.8|                   0.551| 31|      1|     119|\n",
            "|          7|    107|           74|            0|      0|29.6|                   0.254| 31|      1|     108|\n",
            "|          1|    103|           30|           38|     83|43.3|                   0.183| 33|      0|     104|\n",
            "|          1|    115|           70|           30|     96|34.6|                   0.529| 32|      1|     116|\n",
            "+-----------+-------+-------------+-------------+-------+----+------------------------+---+-------+--------+\n",
            "only showing top 20 rows\n",
            "\n"
          ]
        }
      ]
    },
    {
      "cell_type": "code",
      "source": [
        "df.head()"
      ],
      "metadata": {
        "id": "R2_tWgBj2H7L",
        "colab": {
          "base_uri": "https://localhost:8080/"
        },
        "outputId": "e6d317b2-b317-4800-828e-86649aac40d3"
      },
      "execution_count": 37,
      "outputs": [
        {
          "output_type": "execute_result",
          "data": {
            "text/plain": [
              "Row(Pregnancies=6, Glucose=148, BloodPressure=72, SkinThickness=35, Insulin=0, BMI=33.6, DiabetesPedigreeFunction=0.627, Age=50, Outcome=1, new=149)"
            ]
          },
          "metadata": {},
          "execution_count": 37
        }
      ]
    },
    {
      "cell_type": "code",
      "source": [
        "df=df.withColumnRenamed('new','new_name')"
      ],
      "metadata": {
        "id": "a-SWItfI2KCR"
      },
      "execution_count": 38,
      "outputs": []
    },
    {
      "cell_type": "code",
      "source": [
        "df.head(2)"
      ],
      "metadata": {
        "id": "yMVDaJqS2NNA",
        "colab": {
          "base_uri": "https://localhost:8080/"
        },
        "outputId": "ae771f27-f539-4fd9-f5d9-69b0c496a529"
      },
      "execution_count": 39,
      "outputs": [
        {
          "output_type": "execute_result",
          "data": {
            "text/plain": [
              "[Row(Pregnancies=6, Glucose=148, BloodPressure=72, SkinThickness=35, Insulin=0, BMI=33.6, DiabetesPedigreeFunction=0.627, Age=50, Outcome=1, new_name=149),\n",
              " Row(Pregnancies=1, Glucose=85, BloodPressure=66, SkinThickness=29, Insulin=0, BMI=26.6, DiabetesPedigreeFunction=0.351, Age=31, Outcome=0, new_name=86)]"
            ]
          },
          "metadata": {},
          "execution_count": 39
        }
      ]
    },
    {
      "cell_type": "code",
      "source": [
        "#drop rows where there is a nan value\n",
        "df=df.na.drop()"
      ],
      "metadata": {
        "id": "EAd9rPi72ZAe"
      },
      "execution_count": 40,
      "outputs": []
    },
    {
      "cell_type": "code",
      "source": [
        "#how='any' (#drop rows where there is a nan value)\n",
        "df=df.na.drop(how=\"any\")"
      ],
      "metadata": {
        "id": "GhFftzvD2wYT"
      },
      "execution_count": 41,
      "outputs": []
    },
    {
      "cell_type": "code",
      "source": [
        "#how='all' (#drop rows where all records of that raw is nan)\n",
        "df=df.na.drop(how=\"all\")"
      ],
      "metadata": {
        "id": "r2MK4rrl3M5m"
      },
      "execution_count": 42,
      "outputs": []
    },
    {
      "cell_type": "code",
      "source": [
        "#the method will remove rows that have n or more null or NaN values <=> thresh=n\n",
        "df=df.na.drop(thresh=2)\n",
        "#will remove raws where there are 2 nan values or more"
      ],
      "metadata": {
        "id": "4MQq5BC83g-e"
      },
      "execution_count": 43,
      "outputs": []
    },
    {
      "cell_type": "code",
      "source": [
        "#subset\n",
        "df=df.na.drop(subset=['Outcome'])"
      ],
      "metadata": {
        "id": "vbBRk3wP434v"
      },
      "execution_count": 44,
      "outputs": []
    },
    {
      "cell_type": "markdown",
      "source": [
        "This means that rows will only be dropped if they have a null or NaN value in the \"Outcome\" column"
      ],
      "metadata": {
        "id": "0ByrCNDb5Sel"
      }
    },
    {
      "cell_type": "code",
      "source": [
        "#fill missing values\n",
        "#df=df.na.fill(value)=>will replace any nan value with the value specified\n",
        "df=df.na.fill('missing value')"
      ],
      "metadata": {
        "id": "OcY56gVq5T23"
      },
      "execution_count": 45,
      "outputs": []
    },
    {
      "cell_type": "code",
      "source": [
        "#df=df.na.fill(value,columns)=>will replace any nan value with the value specified just in the columns specified\n",
        "df=df.na.fill('missing value','Outcome')\n",
        "df=df.na.fill('missing value',['Outcome','Glucose'])"
      ],
      "metadata": {
        "id": "7yKWqye66a68"
      },
      "execution_count": 46,
      "outputs": []
    },
    {
      "cell_type": "markdown",
      "source": [
        "imputer.setStrategy(\"....\")\n",
        "\n",
        "So, setting strategy='mean' in the constructor is enough to specify the strategy for filling in missing values with the mean. However, if you need to modify the strategy after creating the Imputer object, you can use the setStrategy method to do so."
      ],
      "metadata": {
        "id": "PETlSV7f98KW"
      }
    },
    {
      "cell_type": "code",
      "source": [
        "from pyspark.ml.feature import Imputer\n",
        "\n",
        "# create a PySpark DataFrame with missing values\n",
        "data = [(1, 2, None), (2, None, 4.0), (3, 4, 5.0)]\n",
        "#data=[(record_1),......(record_n)]\n",
        "df = spark.createDataFrame(data, [\"a\", \"b\", \"c\"])\n",
        "print(df.printSchema())\n",
        "df.show()\n",
        "# create the Imputer object and fit it to the DataFrame\n",
        "imputer = Imputer(strategy='mean', inputCols=df.columns, outputCols=df.columns)\n",
        "imputer_model = imputer.fit(df)\n",
        "\n",
        "# apply the imputer to the DataFrame\n",
        "imputed_df = imputer_model.transform(df)\n",
        "\n",
        "imputed_df.show()"
      ],
      "metadata": {
        "id": "n3sJRbIp87Uk",
        "colab": {
          "base_uri": "https://localhost:8080/"
        },
        "outputId": "8d81f26e-3821-46aa-a1b4-083a5797a1ca"
      },
      "execution_count": 47,
      "outputs": [
        {
          "output_type": "stream",
          "name": "stdout",
          "text": [
            "root\n",
            " |-- a: long (nullable = true)\n",
            " |-- b: long (nullable = true)\n",
            " |-- c: double (nullable = true)\n",
            "\n",
            "None\n",
            "+---+----+----+\n",
            "|  a|   b|   c|\n",
            "+---+----+----+\n",
            "|  1|   2|null|\n",
            "|  2|null| 4.0|\n",
            "|  3|   4| 5.0|\n",
            "+---+----+----+\n",
            "\n",
            "+---+---+---+\n",
            "|  a|  b|  c|\n",
            "+---+---+---+\n",
            "|  1|  2|4.5|\n",
            "|  2|  3|4.0|\n",
            "|  3|  4|5.0|\n",
            "+---+---+---+\n",
            "\n"
          ]
        }
      ]
    },
    {
      "cell_type": "code",
      "source": [
        "from pyspark.ml.feature import Imputer\n",
        "\n",
        "# create a PySpark DataFrame with missing values\n",
        "data = [(1, 2, None), (2, None, 4), (3, 4, 5)]\n",
        "#data=[(record_1),......(record_n)]\n",
        "df = spark.createDataFrame(data, [\"a\", \"b\", \"c\"])\n",
        "print(df.printSchema())\n",
        "df.show()\n",
        "# create the Imputer object and fit it to the DataFrame\n",
        "imputer = Imputer(strategy='mean', inputCols=df.columns, outputCols=df.columns)\n",
        "imputer_model = imputer.fit(df)\n",
        "\n",
        "# apply the imputer to the DataFrame\n",
        "imputed_df = imputer_model.transform(df)\n",
        "\n",
        "imputed_df.show()"
      ],
      "metadata": {
        "id": "KfaIItbhBZva",
        "colab": {
          "base_uri": "https://localhost:8080/"
        },
        "outputId": "9db72736-3d1a-4747-8a87-3868e6236d63"
      },
      "execution_count": 48,
      "outputs": [
        {
          "output_type": "stream",
          "name": "stdout",
          "text": [
            "root\n",
            " |-- a: long (nullable = true)\n",
            " |-- b: long (nullable = true)\n",
            " |-- c: long (nullable = true)\n",
            "\n",
            "None\n",
            "+---+----+----+\n",
            "|  a|   b|   c|\n",
            "+---+----+----+\n",
            "|  1|   2|null|\n",
            "|  2|null|   4|\n",
            "|  3|   4|   5|\n",
            "+---+----+----+\n",
            "\n",
            "+---+---+---+\n",
            "|  a|  b|  c|\n",
            "+---+---+---+\n",
            "|  1|  2|  4|\n",
            "|  2|  3|  4|\n",
            "|  3|  4|  5|\n",
            "+---+---+---+\n",
            "\n"
          ]
        }
      ]
    },
    {
      "cell_type": "code",
      "source": [
        "from pyspark.ml.feature import Imputer\n",
        "\n",
        "# create a PySpark DataFrame with missing values\n",
        "data = [(1, 2, None), (2, None, 4), (3, 4, 5)]\n",
        "#data=[(record_1),......(record_n)]\n",
        "df = spark.createDataFrame(data, [\"a\", \"b\", \"c\"])\n",
        "print(df.printSchema())\n",
        "df.show()\n",
        "# create the Imputer object and fit it to the DataFrame\n",
        "imputer = Imputer(strategy='mean', inputCols=df.columns, \n",
        "                  outputCols=[\"imputed_\"+c for c in [\"a\", \"b\", \"c\"]])\n",
        "imputer_model = imputer.fit(df)\n",
        "\n",
        "# apply the imputer to the DataFrame\n",
        "imputed_df = imputer_model.transform(df)\n",
        "\n",
        "imputed_df.show()"
      ],
      "metadata": {
        "id": "x1JgfLThBlDC",
        "colab": {
          "base_uri": "https://localhost:8080/"
        },
        "outputId": "64f988e6-8b29-4d69-8d42-f0cc83c50f2b"
      },
      "execution_count": 49,
      "outputs": [
        {
          "output_type": "stream",
          "name": "stdout",
          "text": [
            "root\n",
            " |-- a: long (nullable = true)\n",
            " |-- b: long (nullable = true)\n",
            " |-- c: long (nullable = true)\n",
            "\n",
            "None\n",
            "+---+----+----+\n",
            "|  a|   b|   c|\n",
            "+---+----+----+\n",
            "|  1|   2|null|\n",
            "|  2|null|   4|\n",
            "|  3|   4|   5|\n",
            "+---+----+----+\n",
            "\n",
            "+---+----+----+---------+---------+---------+\n",
            "|  a|   b|   c|imputed_a|imputed_b|imputed_c|\n",
            "+---+----+----+---------+---------+---------+\n",
            "|  1|   2|null|        1|        2|        4|\n",
            "|  2|null|   4|        2|        3|        4|\n",
            "|  3|   4|   5|        3|        4|        5|\n",
            "+---+----+----+---------+---------+---------+\n",
            "\n"
          ]
        }
      ]
    },
    {
      "cell_type": "code",
      "source": [
        "data = [(\"Alice\", 25), (\"Bob\", 30), (\"Charlie\", 35), (\"Dave\", 40), (\"Eve\", 45)]\n",
        "df = spark.createDataFrame(data, [\"name\", \"age\"])\n",
        "\n",
        "# filter the rows where age is greater than or equal to 35\n",
        "filtered_df = df.filter(\"age>= 35\")\n",
        "\n",
        "# show the filtered DataFrame\n",
        "filtered_df.show()\n",
        "print('*****************')\n",
        "filtered_df.select('age').show()\n"
      ],
      "metadata": {
        "id": "jwFzkAizCJ8J",
        "colab": {
          "base_uri": "https://localhost:8080/"
        },
        "outputId": "5579669e-07b1-4b2b-d094-6bb17b8e7213"
      },
      "execution_count": 50,
      "outputs": [
        {
          "output_type": "stream",
          "name": "stdout",
          "text": [
            "+-------+---+\n",
            "|   name|age|\n",
            "+-------+---+\n",
            "|Charlie| 35|\n",
            "|   Dave| 40|\n",
            "|    Eve| 45|\n",
            "+-------+---+\n",
            "\n",
            "*****************\n",
            "+---+\n",
            "|age|\n",
            "+---+\n",
            "| 35|\n",
            "| 40|\n",
            "| 45|\n",
            "+---+\n",
            "\n"
          ]
        }
      ]
    },
    {
      "cell_type": "code",
      "source": [
        "# filter the rows where age is greater than or equal to 35\n",
        "filtered_df = df.filter(df[\"age\"]>= 35)\n",
        "# show the filtered DataFrame\n",
        "filtered_df.show()\n",
        "print('*****************')\n",
        "filtered_df.select('age').show()"
      ],
      "metadata": {
        "id": "gi5LJfSkDSbw",
        "colab": {
          "base_uri": "https://localhost:8080/"
        },
        "outputId": "fc8127dd-1db4-4efe-89b5-da0d733fe5fd"
      },
      "execution_count": 51,
      "outputs": [
        {
          "output_type": "stream",
          "name": "stdout",
          "text": [
            "+-------+---+\n",
            "|   name|age|\n",
            "+-------+---+\n",
            "|Charlie| 35|\n",
            "|   Dave| 40|\n",
            "|    Eve| 45|\n",
            "+-------+---+\n",
            "\n",
            "*****************\n",
            "+---+\n",
            "|age|\n",
            "+---+\n",
            "| 35|\n",
            "| 40|\n",
            "| 45|\n",
            "+---+\n",
            "\n"
          ]
        }
      ]
    },
    {
      "cell_type": "code",
      "source": [
        "# filter the rows where age is greater than or equal to 35\n",
        "#filtered_df = df.filter((df[\"age\"]>= 35)&(df['col2']....))"
      ],
      "metadata": {
        "id": "DeyLX0_mEuzl"
      },
      "execution_count": 52,
      "outputs": []
    },
    {
      "cell_type": "code",
      "source": [
        "# filter the rows where age is less than to 30\n",
        "filtered_df = df.filter(~(df[\"age\"]>= 30))\n",
        "# show the filtered DataFrame\n",
        "filtered_df.show()\n",
        "print('*****************')\n",
        "filtered_df.select('age').show()"
      ],
      "metadata": {
        "colab": {
          "base_uri": "https://localhost:8080/"
        },
        "id": "qk7shRSo6Zvj",
        "outputId": "aeea48a8-0a70-46f0-90fa-7a7e0d1c022a"
      },
      "execution_count": 54,
      "outputs": [
        {
          "output_type": "stream",
          "name": "stdout",
          "text": [
            "+-----+---+\n",
            "| name|age|\n",
            "+-----+---+\n",
            "|Alice| 25|\n",
            "+-----+---+\n",
            "\n",
            "*****************\n",
            "+---+\n",
            "|age|\n",
            "+---+\n",
            "| 25|\n",
            "+---+\n",
            "\n"
          ]
        }
      ]
    },
    {
      "cell_type": "code",
      "source": [
        "df=spark.read.csv('diabetes.csv',header=True,inferSchema=True)\n",
        "df.show()"
      ],
      "metadata": {
        "colab": {
          "base_uri": "https://localhost:8080/"
        },
        "id": "hRILvNRu6spt",
        "outputId": "3ccb885f-1d90-4cff-a4b4-a770f3f66246"
      },
      "execution_count": 60,
      "outputs": [
        {
          "output_type": "stream",
          "name": "stdout",
          "text": [
            "+-----------+-------+-------------+-------------+-------+----+------------------------+---+-------+\n",
            "|Pregnancies|Glucose|BloodPressure|SkinThickness|Insulin| BMI|DiabetesPedigreeFunction|Age|Outcome|\n",
            "+-----------+-------+-------------+-------------+-------+----+------------------------+---+-------+\n",
            "|          6|    148|           72|           35|      0|33.6|                   0.627| 50|      1|\n",
            "|          1|     85|           66|           29|      0|26.6|                   0.351| 31|      0|\n",
            "|          8|    183|           64|            0|      0|23.3|                   0.672| 32|      1|\n",
            "|          1|     89|           66|           23|     94|28.1|                   0.167| 21|      0|\n",
            "|          0|    137|           40|           35|    168|43.1|                   2.288| 33|      1|\n",
            "|          5|    116|           74|            0|      0|25.6|                   0.201| 30|      0|\n",
            "|          3|     78|           50|           32|     88|31.0|                   0.248| 26|      1|\n",
            "|         10|    115|            0|            0|      0|35.3|                   0.134| 29|      0|\n",
            "|          2|    197|           70|           45|    543|30.5|                   0.158| 53|      1|\n",
            "|          8|    125|           96|            0|      0| 0.0|                   0.232| 54|      1|\n",
            "|          4|    110|           92|            0|      0|37.6|                   0.191| 30|      0|\n",
            "|         10|    168|           74|            0|      0|38.0|                   0.537| 34|      1|\n",
            "|         10|    139|           80|            0|      0|27.1|                   1.441| 57|      0|\n",
            "|          1|    189|           60|           23|    846|30.1|                   0.398| 59|      1|\n",
            "|          5|    166|           72|           19|    175|25.8|                   0.587| 51|      1|\n",
            "|          7|    100|            0|            0|      0|30.0|                   0.484| 32|      1|\n",
            "|          0|    118|           84|           47|    230|45.8|                   0.551| 31|      1|\n",
            "|          7|    107|           74|            0|      0|29.6|                   0.254| 31|      1|\n",
            "|          1|    103|           30|           38|     83|43.3|                   0.183| 33|      0|\n",
            "|          1|    115|           70|           30|     96|34.6|                   0.529| 32|      1|\n",
            "+-----------+-------+-------------+-------------+-------+----+------------------------+---+-------+\n",
            "only showing top 20 rows\n",
            "\n"
          ]
        }
      ]
    },
    {
      "cell_type": "code",
      "source": [
        "#Groupby\n",
        "df.groupBy('Outcome').sum().show()"
      ],
      "metadata": {
        "colab": {
          "base_uri": "https://localhost:8080/"
        },
        "id": "ISLx14YkErJH",
        "outputId": "ed386fd3-87a0-4843-c82c-125b21743cb9"
      },
      "execution_count": 62,
      "outputs": [
        {
          "output_type": "stream",
          "name": "stdout",
          "text": [
            "+-------+----------------+------------+------------------+------------------+------------+-----------------+-----------------------------+--------+------------+\n",
            "|Outcome|sum(Pregnancies)|sum(Glucose)|sum(BloodPressure)|sum(SkinThickness)|sum(Insulin)|         sum(BMI)|sum(DiabetesPedigreeFunction)|sum(Age)|sum(Outcome)|\n",
            "+-------+----------------+------------+------------------+------------------+------------+-----------------+-----------------------------+--------+------------+\n",
            "|      1|            1304|       37857|             18981|              5940|       26890|9418.199999999986|                      147.534|    9934|         268|\n",
            "|      0|            1649|       54990|             34092|              9832|       34396|15152.09999999998|           214.86700000000008|   15595|           0|\n",
            "+-------+----------------+------------+------------------+------------------+------------+-----------------+-----------------------------+--------+------------+\n",
            "\n"
          ]
        }
      ]
    },
    {
      "cell_type": "code",
      "source": [
        "df.groupBy('Outcome').sum('Age').show()"
      ],
      "metadata": {
        "colab": {
          "base_uri": "https://localhost:8080/"
        },
        "id": "ORQGRPfqF_Qx",
        "outputId": "383c74ea-7b5f-4897-f0c1-879349cda1f1"
      },
      "execution_count": 63,
      "outputs": [
        {
          "output_type": "stream",
          "name": "stdout",
          "text": [
            "+-------+--------+\n",
            "|Outcome|sum(Age)|\n",
            "+-------+--------+\n",
            "|      1|    9934|\n",
            "|      0|   15595|\n",
            "+-------+--------+\n",
            "\n"
          ]
        }
      ]
    },
    {
      "cell_type": "code",
      "source": [
        "df.groupBy('Outcome').mean().show()"
      ],
      "metadata": {
        "colab": {
          "base_uri": "https://localhost:8080/"
        },
        "id": "u4m2XdqHGGh4",
        "outputId": "77900ea7-3b5d-4431-aabb-98560032f903"
      },
      "execution_count": 64,
      "outputs": [
        {
          "output_type": "stream",
          "name": "stdout",
          "text": [
            "+-------+-----------------+------------------+------------------+------------------+------------------+-----------------+-----------------------------+-----------------+------------+\n",
            "|Outcome| avg(Pregnancies)|      avg(Glucose)|avg(BloodPressure)|avg(SkinThickness)|      avg(Insulin)|         avg(BMI)|avg(DiabetesPedigreeFunction)|         avg(Age)|avg(Outcome)|\n",
            "+-------+-----------------+------------------+------------------+------------------+------------------+-----------------+-----------------------------+-----------------+------------+\n",
            "|      1|4.865671641791045|141.25746268656715| 70.82462686567165| 22.16417910447761|100.33582089552239|35.14253731343278|                       0.5505|37.06716417910448|         1.0|\n",
            "|      0|            3.298|            109.98|            68.184|            19.664|            68.792|30.30419999999996|          0.42973400000000017|            31.19|         0.0|\n",
            "+-------+-----------------+------------------+------------------+------------------+------------------+-----------------+-----------------------------+-----------------+------------+\n",
            "\n"
          ]
        }
      ]
    },
    {
      "cell_type": "code",
      "source": [
        "df.groupBy('Outcome').mean('Age').show()"
      ],
      "metadata": {
        "colab": {
          "base_uri": "https://localhost:8080/"
        },
        "id": "xNL4XjAtHtL1",
        "outputId": "14565112-c774-4482-ee39-d65f39c80822"
      },
      "execution_count": 65,
      "outputs": [
        {
          "output_type": "stream",
          "name": "stdout",
          "text": [
            "+-------+-----------------+\n",
            "|Outcome|         avg(Age)|\n",
            "+-------+-----------------+\n",
            "|      1|37.06716417910448|\n",
            "|      0|            31.19|\n",
            "+-------+-----------------+\n",
            "\n"
          ]
        }
      ]
    },
    {
      "cell_type": "code",
      "source": [
        "df.groupBy('Outcome').count().show()\n",
        "#imbalanced data"
      ],
      "metadata": {
        "colab": {
          "base_uri": "https://localhost:8080/"
        },
        "id": "mRwiutybHxAI",
        "outputId": "74a88541-88ab-4b8f-9f17-346b6c8b0257"
      },
      "execution_count": 66,
      "outputs": [
        {
          "output_type": "stream",
          "name": "stdout",
          "text": [
            "+-------+-----+\n",
            "|Outcome|count|\n",
            "+-------+-----+\n",
            "|      1|  268|\n",
            "|      0|  500|\n",
            "+-------+-----+\n",
            "\n"
          ]
        }
      ]
    },
    {
      "cell_type": "code",
      "source": [
        "df.agg({'Age':'mean'}).show()"
      ],
      "metadata": {
        "colab": {
          "base_uri": "https://localhost:8080/"
        },
        "id": "H9ILsnncH8OE",
        "outputId": "afc7243c-31e3-46e0-f720-ec85d95d61bb"
      },
      "execution_count": 67,
      "outputs": [
        {
          "output_type": "stream",
          "name": "stdout",
          "text": [
            "+------------------+\n",
            "|          avg(Age)|\n",
            "+------------------+\n",
            "|33.240885416666664|\n",
            "+------------------+\n",
            "\n"
          ]
        }
      ]
    },
    {
      "cell_type": "code",
      "source": [
        "df.groupBy('Outcome').max().show()"
      ],
      "metadata": {
        "colab": {
          "base_uri": "https://localhost:8080/"
        },
        "id": "oz-JbBJ6IUpT",
        "outputId": "f3268f2e-71e2-48e6-daae-dc51a1678bcc"
      },
      "execution_count": 69,
      "outputs": [
        {
          "output_type": "stream",
          "name": "stdout",
          "text": [
            "+-------+----------------+------------+------------------+------------------+------------+--------+-----------------------------+--------+------------+\n",
            "|Outcome|max(Pregnancies)|max(Glucose)|max(BloodPressure)|max(SkinThickness)|max(Insulin)|max(BMI)|max(DiabetesPedigreeFunction)|max(Age)|max(Outcome)|\n",
            "+-------+----------------+------------+------------------+------------------+------------+--------+-----------------------------+--------+------------+\n",
            "|      1|              17|         199|               114|                99|         846|    67.1|                         2.42|      70|           1|\n",
            "|      0|              13|         197|               122|                60|         744|    57.3|                        2.329|      81|           0|\n",
            "+-------+----------------+------------+------------------+------------------+------------+--------+-----------------------------+--------+------------+\n",
            "\n"
          ]
        }
      ]
    },
    {
      "cell_type": "code",
      "source": [
        "df.groupBy('Outcome').max('Age').show()"
      ],
      "metadata": {
        "colab": {
          "base_uri": "https://localhost:8080/"
        },
        "id": "gEXdg5CGIJH-",
        "outputId": "4b23bda6-a7ec-4315-e95b-2aa7d1b5da86"
      },
      "execution_count": 68,
      "outputs": [
        {
          "output_type": "stream",
          "name": "stdout",
          "text": [
            "+-------+--------+\n",
            "|Outcome|max(Age)|\n",
            "+-------+--------+\n",
            "|      1|      70|\n",
            "|      0|      81|\n",
            "+-------+--------+\n",
            "\n"
          ]
        }
      ]
    },
    {
      "cell_type": "code",
      "source": [
        "df.groupBy('Outcome').min('Age').show()"
      ],
      "metadata": {
        "colab": {
          "base_uri": "https://localhost:8080/"
        },
        "id": "d6B9VbbZIZ7-",
        "outputId": "fdd7769b-faf3-4152-c2ef-2d91699fbdf8"
      },
      "execution_count": 70,
      "outputs": [
        {
          "output_type": "stream",
          "name": "stdout",
          "text": [
            "+-------+--------+\n",
            "|Outcome|min(Age)|\n",
            "+-------+--------+\n",
            "|      1|      21|\n",
            "|      0|      21|\n",
            "+-------+--------+\n",
            "\n"
          ]
        }
      ]
    },
    {
      "cell_type": "code",
      "source": [
        "from pyspark.sql import SparkSession\n",
        "\n",
        "# Create a SparkSession\n",
        "spark = SparkSession.builder.appName(\"example\").getOrCreate()\n",
        "\n",
        "# Create a list of tuples representing the data\n",
        "data = [(25, 3, 50000),\n",
        "        (30, 5, 75000),\n",
        "        (35, 8, 100000),\n",
        "        (40, 10, 125000)]\n",
        "\n",
        "# Create a DataFrame with the data\n",
        "df = spark.createDataFrame(data, [\"age\", \"experience\", \"salary\"])\n",
        "\n",
        "# Display the DataFrame\n",
        "df.show()"
      ],
      "metadata": {
        "colab": {
          "base_uri": "https://localhost:8080/"
        },
        "id": "G2GPk-64I2rJ",
        "outputId": "56f76a01-a6f4-4045-9abc-0e0b7fcb6990"
      },
      "execution_count": 80,
      "outputs": [
        {
          "output_type": "stream",
          "name": "stdout",
          "text": [
            "+---+----------+------+\n",
            "|age|experience|salary|\n",
            "+---+----------+------+\n",
            "| 25|         3| 50000|\n",
            "| 30|         5| 75000|\n",
            "| 35|         8|100000|\n",
            "| 40|        10|125000|\n",
            "+---+----------+------+\n",
            "\n"
          ]
        }
      ]
    },
    {
      "cell_type": "code",
      "source": [
        "df.select('age').show()"
      ],
      "metadata": {
        "colab": {
          "base_uri": "https://localhost:8080/"
        },
        "id": "A4bHpjKUKQe_",
        "outputId": "9d3d8b84-8889-43f8-eccc-d6c6a600b426"
      },
      "execution_count": 73,
      "outputs": [
        {
          "output_type": "stream",
          "name": "stdout",
          "text": [
            "+---+\n",
            "|age|\n",
            "+---+\n",
            "| 25|\n",
            "| 30|\n",
            "| 35|\n",
            "| 40|\n",
            "+---+\n",
            "\n"
          ]
        }
      ]
    },
    {
      "cell_type": "code",
      "source": [
        "df.columns"
      ],
      "metadata": {
        "colab": {
          "base_uri": "https://localhost:8080/"
        },
        "id": "aHLinTR3LZBX",
        "outputId": "bbe8d188-ed72-4e0c-a4b2-c6d336fcb9ea"
      },
      "execution_count": 76,
      "outputs": [
        {
          "output_type": "execute_result",
          "data": {
            "text/plain": [
              "['features', 'salary']"
            ]
          },
          "metadata": {},
          "execution_count": 76
        }
      ]
    },
    {
      "cell_type": "code",
      "source": [
        "from pyspark.ml.regression import LinearRegression\n",
        "from pyspark.ml.feature import VectorAssembler\n",
        "\n",
        "# Select relevant columns and create a feature vector\n",
        "assembler = VectorAssembler(inputCols=[\"age\", \"experience\"], outputCol=\"features\")\n",
        "df = assembler.transform(df).select(\"features\", \"salary\")\n",
        "df.show()"
      ],
      "metadata": {
        "colab": {
          "base_uri": "https://localhost:8080/"
        },
        "id": "Z5eA-vYoLURO",
        "outputId": "c8aea9c0-a2eb-4b33-f0ba-16a9f263d2aa"
      },
      "execution_count": 81,
      "outputs": [
        {
          "output_type": "stream",
          "name": "stdout",
          "text": [
            "+-----------+------+\n",
            "|   features|salary|\n",
            "+-----------+------+\n",
            "| [25.0,3.0]| 50000|\n",
            "| [30.0,5.0]| 75000|\n",
            "| [35.0,8.0]|100000|\n",
            "|[40.0,10.0]|125000|\n",
            "+-----------+------+\n",
            "\n"
          ]
        }
      ]
    },
    {
      "cell_type": "code",
      "source": [
        "# Split data into training and test sets\n",
        "train_data, test_data = df.randomSplit([0.8, 0.2], seed=1234)\n",
        "#80% for training data"
      ],
      "metadata": {
        "id": "TlDrJYTJMOhp"
      },
      "execution_count": null,
      "outputs": []
    },
    {
      "cell_type": "code",
      "source": [
        "# Create a LinearRegression object and fit to the training data\n",
        "lr = LinearRegression(featuresCol=\"features\", labelCol=\"salary\")\n",
        "model = lr.fit(train_data)"
      ],
      "metadata": {
        "id": "HCxA8gCcM0zd"
      },
      "execution_count": 82,
      "outputs": []
    },
    {
      "cell_type": "code",
      "source": [
        "# Get the slope and intercept\n",
        "slope = model.coefficients[0]\n",
        "intercept = model.intercept\n",
        "\n",
        "# Print the slope and intercept\n",
        "print(\"Slope:\", slope)\n",
        "print(\"Intercept:\", intercept)"
      ],
      "metadata": {
        "colab": {
          "base_uri": "https://localhost:8080/"
        },
        "id": "xJT7yn-ZM6Gp",
        "outputId": "16afc054-a4cd-402a-9a89-82ae653b0fc3"
      },
      "execution_count": 85,
      "outputs": [
        {
          "output_type": "stream",
          "name": "stdout",
          "text": [
            "Slope: 4999.999999997748\n",
            "Intercept: -74999.99999995799\n"
          ]
        }
      ]
    },
    {
      "cell_type": "code",
      "source": [
        "# Make predictions on the test data\n",
        "predictions = model.transform(test_data)\n",
        "predictions.show()"
      ],
      "metadata": {
        "colab": {
          "base_uri": "https://localhost:8080/"
        },
        "id": "NNOAuVekNgdo",
        "outputId": "03ddb678-98c9-4ab9-94ad-1f0e50dff86d"
      },
      "execution_count": 99,
      "outputs": [
        {
          "output_type": "stream",
          "name": "stdout",
          "text": [
            "+----------+------+-----------------+\n",
            "|  features|salary|       prediction|\n",
            "+----------+------+-----------------+\n",
            "|[30.0,5.0]| 75000|74999.99999999806|\n",
            "+----------+------+-----------------+\n",
            "\n"
          ]
        }
      ]
    },
    {
      "cell_type": "code",
      "source": [
        "# Make predictions on the test data\n",
        "p = model.evaluate(test_data)\n",
        "p.predictions.show()"
      ],
      "metadata": {
        "colab": {
          "base_uri": "https://localhost:8080/"
        },
        "id": "HQGOVzxjNyOa",
        "outputId": "64373b94-02b8-48c8-f1e7-63fa0489bc16"
      },
      "execution_count": 102,
      "outputs": [
        {
          "output_type": "stream",
          "name": "stdout",
          "text": [
            "+----------+------+-----------------+\n",
            "|  features|salary|       prediction|\n",
            "+----------+------+-----------------+\n",
            "|[30.0,5.0]| 75000|74999.99999999806|\n",
            "+----------+------+-----------------+\n",
            "\n"
          ]
        }
      ]
    },
    {
      "cell_type": "code",
      "source": [
        "p.meanAbsoluteError,p.meanSquaredError"
      ],
      "metadata": {
        "colab": {
          "base_uri": "https://localhost:8080/"
        },
        "id": "9R3DWTogQOma",
        "outputId": "1f7a2399-2ba0-4f30-ae3c-a6e2e2bbff03"
      },
      "execution_count": 103,
      "outputs": [
        {
          "output_type": "execute_result",
          "data": {
            "text/plain": [
              "(1.9354047253727913e-09, 3.74579145099533e-18)"
            ]
          },
          "metadata": {},
          "execution_count": 103
        }
      ]
    },
    {
      "cell_type": "code",
      "source": [
        "# Evaluate the model using Root Mean Squared Error (RMSE)\n",
        "from pyspark.ml.evaluation import RegressionEvaluator\n",
        "evaluator = RegressionEvaluator(labelCol=\"salary\", predictionCol=\"prediction\", metricName=\"rmse\")\n",
        "rmse = evaluator.evaluate(predictions)\n",
        "\n",
        "# Print the RMSE\n",
        "print(\"Root Mean Squared Error (RMSE):\", rmse)\n"
      ],
      "metadata": {
        "colab": {
          "base_uri": "https://localhost:8080/"
        },
        "id": "3Zkk7ZT0Kc6w",
        "outputId": "0bb26832-28b7-4420-8884-351097711b34"
      },
      "execution_count": 100,
      "outputs": [
        {
          "output_type": "stream",
          "name": "stdout",
          "text": [
            "Root Mean Squared Error (RMSE): 1.9354047253727913e-09\n"
          ]
        }
      ]
    },
    {
      "cell_type": "code",
      "source": [
        "# Make predictions on the test data\n",
        "predictions = model.transform(test_data)\n",
        "\n",
        "# Get the RMSE from the LinearRegressionSummary object\n",
        "summary = model.summary\n",
        "rmse = summary.rootMeanSquaredError\n",
        "\n",
        "# Print the RMSE\n",
        "print(\"Root Mean Squared Error (RMSE):\", rmse)"
      ],
      "metadata": {
        "colab": {
          "base_uri": "https://localhost:8080/"
        },
        "id": "xgH7fFa_OvQR",
        "outputId": "7668daec-2cfa-4494-87c2-df2e5c80f548"
      },
      "execution_count": 101,
      "outputs": [
        {
          "output_type": "stream",
          "name": "stdout",
          "text": [
            "Root Mean Squared Error (RMSE): 7.42100119844466e-10\n"
          ]
        }
      ]
    }
  ]
}